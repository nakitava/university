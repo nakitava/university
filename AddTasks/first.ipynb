{
  "nbformat": 4,
  "nbformat_minor": 0,
  "metadata": {
    "colab": {
      "provenance": [],
      "authorship_tag": "ABX9TyM/K0avIPTpKMFv7/xhE8fs",
      "include_colab_link": true
    },
    "kernelspec": {
      "name": "python3",
      "display_name": "Python 3"
    },
    "language_info": {
      "name": "python"
    }
  },
  "cells": [
    {
      "cell_type": "markdown",
      "metadata": {
        "id": "view-in-github",
        "colab_type": "text"
      },
      "source": [
        "<a href=\"https://colab.research.google.com/github/nakitava/university/blob/main/AddTasks/first.ipynb\" target=\"_parent\"><img src=\"https://colab.research.google.com/assets/colab-badge.svg\" alt=\"Open In Colab\"/></a>"
      ]
    },
    {
      "cell_type": "code",
      "execution_count": null,
      "metadata": {
        "id": "zCvvQ-FR2VMT"
      },
      "outputs": [],
      "source": [
        "import random\n",
        "a = random.randint(0, 100)\n",
        "chi = -1\n",
        "pop = 0\n",
        "\n",
        "while chi != a:\n",
        "    pop += 1\n",
        "    chi = input()\n",
        "    if chi == 'Выход':\n",
        "        print('Бывает')\n",
        "        break\n",
        "    if int(chi) > a:\n",
        "        print('Ваше число больше нужного')\n",
        "    elif int(chi) < a:\n",
        "        print('Ваше число меньше нужного')\n",
        "    else:\n",
        "        print(f'Хорош, угадал за {pop} попыток')"
      ]
    }
  ]
}