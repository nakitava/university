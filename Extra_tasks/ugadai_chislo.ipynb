{
  "nbformat": 4,
  "nbformat_minor": 0,
  "metadata": {
    "colab": {
      "provenance": [],
      "authorship_tag": "ABX9TyM/K0avIPTpKMFv7/xhE8fs",
      "include_colab_link": true
    },
    "kernelspec": {
      "name": "python3",
      "display_name": "Python 3"
    },
    "language_info": {
      "name": "python"
    }
  },
  "cells": [
    {
      "cell_type": "markdown",
      "metadata": {
        "id": "view-in-github",
        "colab_type": "text"
      },
      "source": [
        "<a href=\"https://colab.research.google.com/github/nakitava/university/blob/main/AddTasks/1.ipynb\" target=\"_parent\"><img src=\"https://colab.research.google.com/assets/colab-badge.svg\" alt=\"Open In Colab\"/></a>"
      ]
    },
    {
      "cell_type": "code",
      "execution_count": null,
      "metadata": {
        "colab": {
          "base_uri": "https://localhost:8080/"
        },
        "id": "zCvvQ-FR2VMT",
        "outputId": "0e3e4f82-e46a-4281-a4dd-db012412c00d"
      },
      "outputs": [
        {
          "output_type": "stream",
          "name": "stdout",
          "text": [
            "45\n",
            "Хорош, угадал за 1 попыток\n"
          ]
        }
      ],
      "source": [
        "import random\n",
        "a = random.randint(0, 100)\n",
        "chi = -1\n",
        "pop = 0\n",
        "\n",
        "while chi != a:\n",
        "    pop += 1\n",
        "    chi = input()\n",
        "    if chi == 'Выход':\n",
        "        print('Бывает')\n",
        "        break\n",
        "    if int(chi) > a:\n",
        "        print('Ваше число больше нужного')\n",
        "    elif int(chi) < a:\n",
        "        print('Ваше число меньше нужного')\n",
        "    else:\n",
        "        print(f'Хорош, угадал за {pop} попыток')"
      ]
    }
  ]
}
