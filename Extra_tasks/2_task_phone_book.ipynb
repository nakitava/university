{
  "nbformat": 4,
  "nbformat_minor": 0,
  "metadata": {
    "colab": {
      "provenance": [],
      "authorship_tag": "ABX9TyMsbtDApphKqNaDVV75ByAz",
      "include_colab_link": true
    },
    "kernelspec": {
      "name": "python3",
      "display_name": "Python 3"
    },
    "language_info": {
      "name": "python"
    }
  },
  "cells": [
    {
      "cell_type": "markdown",
      "metadata": {
        "id": "view-in-github",
        "colab_type": "text"
      },
      "source": [
        "<a href=\"https://colab.research.google.com/github/nakitava/university/blob/main/Extra_tasks/Phone_book.ipynb\" target=\"_parent\"><img src=\"https://colab.research.google.com/assets/colab-badge.svg\" alt=\"Open In Colab\"/></a>"
      ]
    },
    {
      "cell_type": "code",
      "source": [
        "phonebook = {}\n",
        "\n",
        "def addperson():\n",
        "  name = str(input(\"Дай имя, плиз: \"))\n",
        "  name = standardizename(name)\n",
        "  if name in phonebook.keys():\n",
        "    print(\"Такой чел уже есть((\")\n",
        "  nomerphone = str(input(\"А номер слабо ввести : \"))\n",
        "  nomerphone = standarnomerphone(nomerphone)\n",
        "  nomerphone = nomerphone + \"0\" * (12 - len(nomerphone))\n",
        "  phonebook[name] = nomerphone\n",
        "  print('')\n",
        "\n",
        "def standarnomerphone(nomerphone):\n",
        "  if nomerphone[0] == \"8\":\n",
        "    nomerphone = nomerphone.replace(\"8\", \"+7\", 1)\n",
        "  elif nomerphone[0] == \"7\":\n",
        "    nomerphone = nomerphone.replace(\"7\", \"+7\", 1)\n",
        "  elif nomerphone[:2] != \"+7\":\n",
        "    nomerphone = \"+7\" + nomerphone\n",
        "  nomerphone = (nomerphone + \"0\" * (12 - len(nomerphone)))[:12]\n",
        "  return nomerphone\n",
        "\n",
        "def delperson():\n",
        "  name = str(input(\"Кого удаляем: \"))\n",
        "  if checkname(name) == False:\n",
        "    print(\"Его и так нет, бро..\\n\")\n",
        "    return\n",
        "  delphone = phoneBook.pop(name)\n",
        "\n",
        "def watchphonebook():\n",
        "  print(\"Вот кто есть:\")\n",
        "  if len(phonebook) == 0:\n",
        "    print(\"Никого нет\")\n",
        "    return\n",
        "  for name, numberphone in phonebook.items():\n",
        "    print(name, numberphone)\n",
        "  print(\"\")\n",
        "\n",
        "def changephonenomer():\n",
        "  name = str(input(\"Введите имя: \"))\n",
        "  if checkname(name) == False:\n",
        "    print(\"Такого нет((\")\n",
        "    return\n",
        "  newnomerphone = str(input(\"На что меняем??: \"))\n",
        "  newnomerphone = standarnomerphone(newnomerphone)\n",
        "  oldnomerphone = phonebook[name]\n",
        "  phonebook[name] = newnomerphone\n",
        "\n",
        "def standardizename(name):\n",
        "  name = name.split()\n",
        "  for i in range(len(name)):\n",
        "    name[i] = name[i].title()\n",
        "  return \" \".join(name)\n",
        "\n",
        "def checkname(name):\n",
        "  if name in phonebook:\n",
        "    return True\n",
        "  else:\n",
        "    return False\n",
        "\n",
        "while True:\n",
        "  print(\"Выбирай:\")\n",
        "  print  (\"1.Добавить котика\")\n",
        "  print  (\"2.Удалить котика\")\n",
        "  print  (\"3.Просмотр книги котиков\")\n",
        "  print  (\"4.Изменить номер котика\")\n",
        "  print  (\"5.Хочешь выйти?? Дверь тут.\")\n",
        "  clientinput = str(input())\n",
        "  if clientinput == '1':\n",
        "    addperson()\n",
        "  elif clientinput == '2':\n",
        "    delperson()\n",
        "  elif clientinput == '3':\n",
        "    watchphonebook()\n",
        "  elif clientinput == '4':\n",
        "    changephonenomer()\n",
        "  elif clientinput == 'Выход':\n",
        "    break\n",
        "  else:\n",
        "    print(\"Не то ввёл, остаёшься тут, ха-ха\")"
      ],
      "metadata": {
        "colab": {
          "base_uri": "https://localhost:8080/"
        },
        "id": "CmA2pEDiAhff",
        "outputId": "a359884f-5c03-4388-ea90-e4f6cc73fe43"
      },
      "execution_count": null,
      "outputs": [
        {
          "output_type": "stream",
          "name": "stdout",
          "text": [
            "Выбирай:\n",
            "1.Добавить котика\n",
            "2.Удалить котика\n",
            "3.Просмотр книги котиков\n",
            "4.Изменить номер котика\n",
            "5.Хочешь выйти?? Дверь тут.\n",
            "1\n",
            "Дай имя, плиз: Котик мурлкович\n",
            "А номер слабо ввести : 89055556736\n",
            "\n",
            "Выбирай:\n",
            "1.Добавить котика\n",
            "2.Удалить котика\n",
            "3.Просмотр книги котиков\n",
            "4.Изменить номер котика\n",
            "5.Хочешь выйти?? Дверь тут.\n",
            "3\n",
            "Вот кто есть:\n",
            "Котик Мурлкович +79055556736\n",
            "\n",
            "Выбирай:\n",
            "1.Добавить котика\n",
            "2.Удалить котика\n",
            "3.Просмотр книги котиков\n",
            "4.Изменить номер котика\n",
            "5.Хочешь выйти?? Дверь тут.\n"
          ]
        }
      ]
    }
  ]
}
